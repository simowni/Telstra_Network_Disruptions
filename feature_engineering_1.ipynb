{
 "cells": [
  {
   "cell_type": "code",
   "execution_count": 1,
   "metadata": {
    "collapsed": true
   },
   "outputs": [],
   "source": [
    "import pandas as pd\n",
    "import numpy as np\n",
    "\n",
    "%matplotlib inline\n",
    "import matplotlib.pylab as plt\n",
    "from matplotlib.pylab import rcParams\n",
    "rcParams['figure.figsize'] = 20, 4"
   ]
  },
  {
   "cell_type": "code",
   "execution_count": 2,
   "metadata": {
    "collapsed": false
   },
   "outputs": [],
   "source": [
    "from AJ_ML_Library import models_classification"
   ]
  },
  {
   "cell_type": "code",
   "execution_count": 3,
   "metadata": {
    "collapsed": false
   },
   "outputs": [],
   "source": [
    "from sklearn.preprocessing import LabelEncoder"
   ]
  },
  {
   "cell_type": "code",
   "execution_count": 4,
   "metadata": {
    "collapsed": true
   },
   "outputs": [],
   "source": [
    "train = pd.read_csv('data/train_modified_5.csv')\n",
    "test = pd.read_csv('data/test_modified_5.csv')"
   ]
  },
  {
   "cell_type": "code",
   "execution_count": 5,
   "metadata": {
    "collapsed": false
   },
   "outputs": [
    {
     "data": {
      "text/plain": [
       "((7381, 187), (11171, 186))"
      ]
     },
     "execution_count": 5,
     "metadata": {},
     "output_type": "execute_result"
    }
   ],
   "source": [
    "train.shape, test.shape"
   ]
  },
  {
   "cell_type": "code",
   "execution_count": 6,
   "metadata": {
    "collapsed": false
   },
   "outputs": [
    {
     "data": {
      "text/plain": [
       "Index([u'fault_severity', u'id', u'location', u'event_type 10',\n",
       "       u'event_type 11', u'event_type 13', u'event_type 14', u'event_type 15',\n",
       "       u'event_type 18', u'event_type 2',\n",
       "       ...\n",
       "       u'resource_type 7', u'resource_type 8', u'resource_type 9',\n",
       "       u'severity_type 1', u'severity_type 2', u'severity_type 3',\n",
       "       u'severity_type 4', u'severity_type 5', u'location_count',\n",
       "       u'feature_count'],\n",
       "      dtype='object', length=187)"
      ]
     },
     "execution_count": 6,
     "metadata": {},
     "output_type": "execute_result"
    }
   ],
   "source": [
    "train.columns"
   ]
  },
  {
   "cell_type": "code",
   "execution_count": 7,
   "metadata": {
    "collapsed": false,
    "scrolled": false
   },
   "outputs": [
    {
     "data": {
      "text/plain": [
       "0    4784\n",
       "1    1871\n",
       "2     726\n",
       "Name: fault_severity, dtype: int64"
      ]
     },
     "execution_count": 7,
     "metadata": {},
     "output_type": "execute_result"
    }
   ],
   "source": [
    "train['fault_severity'].value_counts()"
   ]
  },
  {
   "cell_type": "code",
   "execution_count": 8,
   "metadata": {
    "collapsed": true
   },
   "outputs": [],
   "source": [
    "target = 'fault_severity'\n",
    "IDcol = 'id'\n",
    "output_colnames = ['predict_0','predict_1','predict_2']"
   ]
  },
  {
   "cell_type": "code",
   "execution_count": 9,
   "metadata": {
    "collapsed": false
   },
   "outputs": [
    {
     "data": {
      "text/plain": [
       "(18552, 188)"
      ]
     },
     "execution_count": 9,
     "metadata": {},
     "output_type": "execute_result"
    }
   ],
   "source": [
    "#Combine the data first:\n",
    "train['source'] = 'train'\n",
    "test['source'] = 'test'\n",
    "data = pd.concat([train,test], ignore_index=True)\n",
    "data.shape"
   ]
  },
  {
   "cell_type": "markdown",
   "metadata": {},
   "source": [
    "## Create New Features"
   ]
  },
  {
   "cell_type": "code",
   "execution_count": 10,
   "metadata": {
    "collapsed": false
   },
   "outputs": [
    {
     "data": {
      "text/plain": [
       "131"
      ]
     },
     "execution_count": 10,
     "metadata": {},
     "output_type": "execute_result"
    }
   ],
   "source": [
    "feat_pred = [x for x in data.columns if x.startswith('feature ')]\n",
    "len(feat_pred)"
   ]
  },
  {
   "cell_type": "code",
   "execution_count": 11,
   "metadata": {
    "collapsed": false
   },
   "outputs": [],
   "source": [
    "#create log features:\n",
    "for f in feat_pred:\n",
    "    data[f] = data[f].apply(lambda x: np.log(x+1))"
   ]
  },
  {
   "cell_type": "code",
   "execution_count": 12,
   "metadata": {
    "collapsed": false
   },
   "outputs": [
    {
     "data": {
      "text/plain": [
       "169"
      ]
     },
     "execution_count": 12,
     "metadata": {},
     "output_type": "execute_result"
    }
   ],
   "source": [
    "sum(data['location_count']<2)"
   ]
  },
  {
   "cell_type": "code",
   "execution_count": 13,
   "metadata": {
    "collapsed": true
   },
   "outputs": [],
   "source": [
    "def create_location_count(features):\n",
    "    for feat in features:\n",
    "        loc_count = data.pivot_table(values=feat, index='location',aggfunc=lambda x: sum(x>0))\n",
    "        data['loc_count_%s'%feat] = data['location'].apply(lambda x: loc_count[x])\n",
    "        \n",
    "def create_location_stats(features):\n",
    "    for feat in features:\n",
    "        loc_mean = data.pivot_table(values=feat, index='location',aggfunc=lambda x: np.mean([i for i in x if i>0]) if sum(x>0)>0 else 0)\n",
    "        data['loc_mean_%s'%feat] = data['location'].apply(lambda x: loc_mean[x])"
   ]
  },
  {
   "cell_type": "code",
   "execution_count": 14,
   "metadata": {
    "collapsed": true
   },
   "outputs": [],
   "source": [
    "new_feat = ['feature 203','feature 82','event_type 11','severity_type 1','feature 170','feature 54',\n",
    "            'feature 201','feature 80','feature 71','feature 193','feature 54','feature 312','feature 202',\n",
    "            'feature others_1','feature 232','feature 68', 'feature others_0','feature 307']\n",
    "create_location_count(new_feat)"
   ]
  },
  {
   "cell_type": "code",
   "execution_count": 15,
   "metadata": {
    "collapsed": false
   },
   "outputs": [],
   "source": [
    "new_feat = ['feature 203','feature 82','feature 170','feature 54',\n",
    "            'feature 201','feature 80','feature 71','feature 193','feature 54','feature 312','feature 202',\n",
    "            'feature others_1','feature 232','feature 68', 'feature others_0','feature 307']\n",
    "create_location_stats(new_feat)"
   ]
  },
  {
   "cell_type": "code",
   "execution_count": 16,
   "metadata": {
    "collapsed": false,
    "scrolled": false
   },
   "outputs": [
    {
     "name": "stdout",
     "output_type": "stream",
     "text": [
      "   loc_mean_feature 80  loc_mean_feature 71  loc_mean_feature 193  \\\n",
      "0             0.000000                    0                     0   \n",
      "1             0.000000                    0                     0   \n",
      "2             0.000000                    0                     0   \n",
      "3             1.585072                    0                     0   \n",
      "4             0.000000                    0                     0   \n",
      "\n",
      "   loc_mean_feature 312  \n",
      "0              2.750371  \n",
      "1              1.711339  \n",
      "2              0.881157  \n",
      "3              0.000000  \n",
      "4              0.751071  \n"
     ]
    }
   ],
   "source": [
    "print data[[u'loc_mean_feature 80', u'loc_mean_feature 71', u'loc_mean_feature 193',\n",
    "       u'loc_mean_feature 312']].head()"
   ]
  },
  {
   "cell_type": "code",
   "execution_count": 17,
   "metadata": {
    "collapsed": false
   },
   "outputs": [
    {
     "data": {
      "text/html": [
       "<div>\n",
       "<table border=\"1\" class=\"dataframe\">\n",
       "  <thead>\n",
       "    <tr style=\"text-align: right;\">\n",
       "      <th></th>\n",
       "      <th>loc_count_feature 203</th>\n",
       "      <th>loc_count_feature 82</th>\n",
       "      <th>loc_count_event_type 11</th>\n",
       "      <th>loc_count_severity_type 1</th>\n",
       "      <th>loc_count_feature 170</th>\n",
       "      <th>loc_count_feature 54</th>\n",
       "    </tr>\n",
       "  </thead>\n",
       "  <tbody>\n",
       "    <tr>\n",
       "      <th>0</th>\n",
       "      <td>0</td>\n",
       "      <td>0</td>\n",
       "      <td>3</td>\n",
       "      <td>11</td>\n",
       "      <td>0</td>\n",
       "      <td>0</td>\n",
       "    </tr>\n",
       "    <tr>\n",
       "      <th>1</th>\n",
       "      <td>0</td>\n",
       "      <td>0</td>\n",
       "      <td>0</td>\n",
       "      <td>3</td>\n",
       "      <td>0</td>\n",
       "      <td>0</td>\n",
       "    </tr>\n",
       "    <tr>\n",
       "      <th>2</th>\n",
       "      <td>0</td>\n",
       "      <td>0</td>\n",
       "      <td>0</td>\n",
       "      <td>1</td>\n",
       "      <td>0</td>\n",
       "      <td>0</td>\n",
       "    </tr>\n",
       "    <tr>\n",
       "      <th>3</th>\n",
       "      <td>42</td>\n",
       "      <td>49</td>\n",
       "      <td>43</td>\n",
       "      <td>44</td>\n",
       "      <td>0</td>\n",
       "      <td>0</td>\n",
       "    </tr>\n",
       "    <tr>\n",
       "      <th>4</th>\n",
       "      <td>0</td>\n",
       "      <td>0</td>\n",
       "      <td>2</td>\n",
       "      <td>4</td>\n",
       "      <td>0</td>\n",
       "      <td>0</td>\n",
       "    </tr>\n",
       "  </tbody>\n",
       "</table>\n",
       "</div>"
      ],
      "text/plain": [
       "   loc_count_feature 203  loc_count_feature 82  loc_count_event_type 11  \\\n",
       "0                      0                     0                        3   \n",
       "1                      0                     0                        0   \n",
       "2                      0                     0                        0   \n",
       "3                     42                    49                       43   \n",
       "4                      0                     0                        2   \n",
       "\n",
       "   loc_count_severity_type 1  loc_count_feature 170  loc_count_feature 54  \n",
       "0                         11                      0                     0  \n",
       "1                          3                      0                     0  \n",
       "2                          1                      0                     0  \n",
       "3                         44                      0                     0  \n",
       "4                          4                      0                     0  "
      ]
     },
     "execution_count": 17,
     "metadata": {},
     "output_type": "execute_result"
    }
   ],
   "source": [
    "data[[u'loc_count_feature 203', u'loc_count_feature 82',\n",
    "       u'loc_count_event_type 11', u'loc_count_severity_type 1',\n",
    "       u'loc_count_feature 170', u'loc_count_feature 54']].head()"
   ]
  },
  {
   "cell_type": "code",
   "execution_count": 18,
   "metadata": {
    "collapsed": false
   },
   "outputs": [],
   "source": [
    "# data['location2'] = data['location'].values\n",
    "# data['location2'].loc[data['location_count']==1] = -10"
   ]
  },
  {
   "cell_type": "code",
   "execution_count": 19,
   "metadata": {
    "collapsed": true
   },
   "outputs": [],
   "source": [
    "data = data.sort_values('id')"
   ]
  },
  {
   "cell_type": "markdown",
   "metadata": {},
   "source": [
    "## Create Patterns"
   ]
  },
  {
   "cell_type": "code",
   "execution_count": 20,
   "metadata": {
    "collapsed": true
   },
   "outputs": [],
   "source": [
    "le = LabelEncoder()"
   ]
  },
  {
   "cell_type": "markdown",
   "metadata": {},
   "source": [
    "### 1. Pattern based on features"
   ]
  },
  {
   "cell_type": "code",
   "execution_count": 21,
   "metadata": {
    "collapsed": false
   },
   "outputs": [],
   "source": [
    "data['pattern_feature'] = data[feat_pred].apply(lambda x: ''.join(map(str,x.values)),axis=1) "
   ]
  },
  {
   "cell_type": "code",
   "execution_count": 22,
   "metadata": {
    "collapsed": true
   },
   "outputs": [],
   "source": [
    "data['pattern_feature'] = le.fit_transform(data['pattern_feature'])"
   ]
  },
  {
   "cell_type": "code",
   "execution_count": 23,
   "metadata": {
    "collapsed": false
   },
   "outputs": [],
   "source": [
    "pattern_feature_count = data['pattern_feature'].value_counts()\n",
    "data['pattern_feature_count'] = data['pattern_feature'].apply(lambda x: pattern_feature_count[x])"
   ]
  },
  {
   "cell_type": "code",
   "execution_count": 24,
   "metadata": {
    "collapsed": false
   },
   "outputs": [
    {
     "data": {
      "text/plain": [
       "9581"
      ]
     },
     "execution_count": 24,
     "metadata": {},
     "output_type": "execute_result"
    }
   ],
   "source": [
    "len(data['pattern_feature'].unique())"
   ]
  },
  {
   "cell_type": "code",
   "execution_count": 25,
   "metadata": {
    "collapsed": false
   },
   "outputs": [
    {
     "data": {
      "text/plain": [
       "380"
      ]
     },
     "execution_count": 25,
     "metadata": {},
     "output_type": "execute_result"
    }
   ],
   "source": [
    "sum(data['pattern_feature'].value_counts()>5)"
   ]
  },
  {
   "cell_type": "code",
   "execution_count": 26,
   "metadata": {
    "collapsed": false
   },
   "outputs": [],
   "source": [
    "# data['pattern_feature'].loc[data['pattern_feature_count']<=3] = -10"
   ]
  },
  {
   "cell_type": "markdown",
   "metadata": {},
   "source": [
    "### 2. Pattern based on features+severitytype+event+resource"
   ]
  },
  {
   "cell_type": "code",
   "execution_count": 27,
   "metadata": {
    "collapsed": false
   },
   "outputs": [
    {
     "data": {
      "text/plain": [
       "146"
      ]
     },
     "execution_count": 27,
     "metadata": {},
     "output_type": "execute_result"
    }
   ],
   "source": [
    "severity_pred = [x for x in data.columns if x.startswith('severity_type ')]\n",
    "event_pred = [x for x in data.columns if x.startswith('event_type ')]\n",
    "resource_pred = [x for x in data.columns if x.startswith('resource_type ')]\n",
    "fser_pred = feat_pred+severity_pred+resource_pred\n",
    "len(fser_pred)"
   ]
  },
  {
   "cell_type": "code",
   "execution_count": 28,
   "metadata": {
    "collapsed": false
   },
   "outputs": [
    {
     "name": "stdout",
     "output_type": "stream",
     "text": [
      "['severity_type 1', 'severity_type 2', 'severity_type 3', 'severity_type 4', 'severity_type 5']\n",
      "['event_type 10', 'event_type 11', 'event_type 13', 'event_type 14', 'event_type 15', 'event_type 18', 'event_type 2', 'event_type 20', 'event_type 21', 'event_type 22', 'event_type 23', 'event_type 24', 'event_type 26', 'event_type 27', 'event_type 28', 'event_type 29', 'event_type 30', 'event_type 32', 'event_type 34', 'event_type 35', 'event_type 40', 'event_type 42', 'event_type 43', 'event_type 44', 'event_type 45', 'event_type 46', 'event_type 47', 'event_type 5', 'event_type 50', 'event_type 54', 'event_type 6', 'event_type 7', 'event_type 8', 'event_type others_0', 'event_type others_1', 'event_type others_2']\n",
      "['resource_type 1', 'resource_type 10', 'resource_type 2', 'resource_type 3', 'resource_type 4', 'resource_type 5', 'resource_type 6', 'resource_type 7', 'resource_type 8', 'resource_type 9']\n"
     ]
    }
   ],
   "source": [
    "print severity_pred\n",
    "print event_pred\n",
    "print resource_pred"
   ]
  },
  {
   "cell_type": "code",
   "execution_count": 29,
   "metadata": {
    "collapsed": true
   },
   "outputs": [],
   "source": [
    "data['pattern_event'] = data[event_pred].apply(lambda x: ''.join(map(str,x.values)),axis=1) \n",
    "data['pattern_event'] = le.fit_transform(data['pattern_event'])\n",
    "pattern_event_count = data['pattern_event'].value_counts()\n",
    "data['pattern_event_count'] = data['pattern_event'].apply(lambda x: pattern_event_count[x])"
   ]
  },
  {
   "cell_type": "code",
   "execution_count": 30,
   "metadata": {
    "collapsed": false
   },
   "outputs": [],
   "source": [
    "# print len(data['pattern_event'].unique())\n",
    "# print sum(data['pattern_event'].value_counts()>5)\n",
    "# data['pattern_event'].loc[data['pattern_event_count']<=3] = -10"
   ]
  },
  {
   "cell_type": "code",
   "execution_count": 31,
   "metadata": {
    "collapsed": true
   },
   "outputs": [],
   "source": [
    "data['pattern_resource'] = data[resource_pred].apply(lambda x: ''.join(map(str,x.values)),axis=1) \n",
    "data['pattern_resource'] = le.fit_transform(data['pattern_resource'])\n",
    "pattern_resource_count = data['pattern_resource'].value_counts()\n",
    "data['pattern_resource_count'] = data['pattern_resource'].apply(lambda x: pattern_resource_count[x])"
   ]
  },
  {
   "cell_type": "code",
   "execution_count": 32,
   "metadata": {
    "collapsed": false
   },
   "outputs": [],
   "source": [
    "# print len(data['pattern_resource'].unique())\n",
    "# print sum(data['pattern_resource'].value_counts()>5)\n",
    "# data['pattern_resource'].loc[data['pattern_resource_count']<=3] = -10"
   ]
  },
  {
   "cell_type": "code",
   "execution_count": 33,
   "metadata": {
    "collapsed": true
   },
   "outputs": [],
   "source": [
    "data['pattern_all'] = data[fser_pred].apply(lambda x: ''.join(map(str,x.values)),axis=1) \n",
    "data['pattern_all'] = le.fit_transform(data['pattern_all'])\n",
    "pattern_all_count = data['pattern_all'].value_counts()\n",
    "data['pattern_all_count'] = data['pattern_all'].apply(lambda x: pattern_all_count[x])"
   ]
  },
  {
   "cell_type": "code",
   "execution_count": 34,
   "metadata": {
    "collapsed": false
   },
   "outputs": [],
   "source": [
    "# print len(data['pattern_all'].unique())\n",
    "# print sum(data['pattern_all'].value_counts()>5)\n",
    "# data['pattern_all'].loc[data['pattern_all_count']<=3] = -10"
   ]
  },
  {
   "cell_type": "code",
   "execution_count": 35,
   "metadata": {
    "collapsed": true
   },
   "outputs": [],
   "source": [
    "data['resource_count'] = data[resource_pred].apply(np.sum, axis=1)\n",
    "data['event_count'] = data[event_pred].apply(np.sum, axis=1)"
   ]
  },
  {
   "cell_type": "markdown",
   "metadata": {},
   "source": [
    "### 3. Sequencial Pattern on different variables:"
   ]
  },
  {
   "cell_type": "code",
   "execution_count": 36,
   "metadata": {
    "collapsed": true
   },
   "outputs": [],
   "source": [
    "# def create_sequential_pattern(feature, nseq):\n",
    "#     #create lag vars:\n",
    "#     for i in range(1,nseq+1):\n",
    "#         data['lag_feature_%d'%i] = data[feature].shift(nseq+1-i).fillna(-1)\n",
    "#     lag_pred = ['lag_feature_%d'%i for i in range(1,nseq+1)]\n",
    "#     for i in range(2,nseq+1):    \n",
    "#         colname = 'sequence%d_%s'%(i,feature)\n",
    "#         data[colname] = data[lag_pred[-i:]].apply(lambda x: ''.join(map(str,x.astype(int).values)),axis=1) \n",
    "#         data[colname] = le.fit_transform(data[colname])\n",
    "#         colname_count = data[colname].value_counts()\n",
    "#         data['%s_count'%colname] = data[colname].apply(lambda x: colname_count[x])\n",
    "#         data[colname].iloc[:i] = -1\n",
    "#         data['%s_count'%colname].iloc[:i] = -1\n",
    "#     data.drop(lag_pred, axis=1,inplace=True)\n",
    "\n",
    "def create_sequential_counts(feature, nseq):\n",
    "    #create lag vars:\n",
    "    for i in range(1,nseq+1):\n",
    "        data['lag_feature_%d'%i] = data[feature].shift(nseq+1-i).fillna(0)\n",
    "    lag_pred = ['lag_feature_%d'%i for i in range(1,nseq+1)]\n",
    "    for i in range(2,nseq+1):    \n",
    "        colname = 'occurence%d_count_%s'%(i,feature)\n",
    "        data[colname] = data[lag_pred[-i:]].apply(np.sum,axis=1)\n",
    "        data[colname].iloc[:i]=-1\n",
    "        \n",
    "    data.drop(lag_pred, axis=1,inplace=True)"
   ]
  },
  {
   "cell_type": "code",
   "execution_count": 37,
   "metadata": {
    "collapsed": false
   },
   "outputs": [],
   "source": [
    "# data['severity_type_combined'] = data[severity_pred].apply(lambda x: np.argmax(x.values)+1,axis=1)\n",
    "# data[severity_pred+['severity_type_combined']].head(10)"
   ]
  },
  {
   "cell_type": "code",
   "execution_count": 38,
   "metadata": {
    "collapsed": false
   },
   "outputs": [
    {
     "name": "stderr",
     "output_type": "stream",
     "text": [
      "/Users/aarshay/anaconda/lib/python2.7/site-packages/pandas/core/indexing.py:117: SettingWithCopyWarning: \n",
      "A value is trying to be set on a copy of a slice from a DataFrame\n",
      "\n",
      "See the caveats in the documentation: http://pandas.pydata.org/pandas-docs/stable/indexing.html#indexing-view-versus-copy\n",
      "  self._setitem_with_indexer(indexer, value)\n"
     ]
    }
   ],
   "source": [
    "create_sequential_counts('severity_type 1',2)\n",
    "create_sequential_counts('severity_type 2',2)"
   ]
  },
  {
   "cell_type": "code",
   "execution_count": 39,
   "metadata": {
    "collapsed": false
   },
   "outputs": [],
   "source": [
    "# create_sequential_pattern('severity_type_combined',3)"
   ]
  },
  {
   "cell_type": "code",
   "execution_count": 40,
   "metadata": {
    "collapsed": false
   },
   "outputs": [],
   "source": [
    "# data[['id','severity_type 1','occurence2_count_severity_type 1','occurence2_count_severity_type 2']].head(10)"
   ]
  },
  {
   "cell_type": "code",
   "execution_count": 41,
   "metadata": {
    "collapsed": false
   },
   "outputs": [],
   "source": [
    "# data['sequence3_severity_type_combined'].value_counts()"
   ]
  },
  {
   "cell_type": "code",
   "execution_count": 42,
   "metadata": {
    "collapsed": true
   },
   "outputs": [],
   "source": [
    "# create_sequential_pattern('severity_type 1')\n",
    "# create_sequential_pattern('severity_type 2')"
   ]
  },
  {
   "cell_type": "markdown",
   "metadata": {},
   "source": [
    "### Drop high cardinality features and keep counts only"
   ]
  },
  {
   "cell_type": "code",
   "execution_count": 43,
   "metadata": {
    "collapsed": true
   },
   "outputs": [],
   "source": [
    "# data.drop(['pattern_all','pattern_feature','pattern_resource','pattern_event'],axis=1,inplace=True)"
   ]
  },
  {
   "cell_type": "code",
   "execution_count": 44,
   "metadata": {
    "collapsed": false
   },
   "outputs": [],
   "source": [
    "# data['pattern_all_lag1'] = data['pattern_all'].shift().fillna(-1)\n",
    "# # data['pattern_all_lag2'] = data['pattern_all'].shift(2).fillna(-1)\n",
    "# data['pattern_feature_lag1'] = data['pattern_feature'].shift().fillna(-1)\n",
    "# # data['pattern_feature_lag2'] = data['pattern_feature'].shift(2).fillna(-1)\n",
    "# data['pattern_all_similar'] = data.apply(lambda x: 1 if x['pattern_all']==x['pattern_all_lag1'] else 0,axis=1)\n",
    "# data['pattern_feature_similar'] = data.apply(lambda x: 1 if x['pattern_feature']==x['pattern_feature_lag1'] else 0,axis=1)"
   ]
  },
  {
   "cell_type": "code",
   "execution_count": 45,
   "metadata": {
    "collapsed": false
   },
   "outputs": [],
   "source": [
    "# data['severity_type_combined_lag'] = data['severity_type_combined'].shift().fillna(-1)\n",
    "# data['severity_type_combined_similar'] = data.apply(lambda x: 1 if x['severity_type_combined']==x['severity_type_combined_lag'] else 0, axis=1)"
   ]
  },
  {
   "cell_type": "code",
   "execution_count": 46,
   "metadata": {
    "collapsed": false
   },
   "outputs": [],
   "source": [
    "# data.drop(severity_pred,axis=1,inplace=True)\n",
    "# data.drop('severity_type_combined',axis=1,inplace=True)"
   ]
  },
  {
   "cell_type": "markdown",
   "metadata": {},
   "source": [
    "## EXplore new features:"
   ]
  },
  {
   "cell_type": "code",
   "execution_count": 47,
   "metadata": {
    "collapsed": false
   },
   "outputs": [
    {
     "data": {
      "text/plain": [
       "[<matplotlib.lines.Line2D at 0x110029090>]"
      ]
     },
     "execution_count": 47,
     "metadata": {},
     "output_type": "execute_result"
    },
    {
     "data": {
      "image/png": "[encoded data removed]",
      "text/plain": [
       "<matplotlib.figure.Figure at 0x10f72fb10>"
      ]
     },
     "metadata": {},
     "output_type": "display_data"
    }
   ],
   "source": [
    "nval=5000\n",
    "plt.plot(data['id'].head(nval).values,data['feature 203'].head(nval).values)"
   ]
  },
  {
   "cell_type": "code",
   "execution_count": 48,
   "metadata": {
    "collapsed": false
   },
   "outputs": [
    {
     "data": {
      "text/plain": [
       "[<matplotlib.lines.Line2D at 0x111154fd0>]"
      ]
     },
     "execution_count": 48,
     "metadata": {},
     "output_type": "execute_result"
    },
    {
     "data": {
      "image/png": "[encoded data removed]",
      "text/plain": [
       "<matplotlib.figure.Figure at 0x1123cf050>"
      ]
     },
     "metadata": {},
     "output_type": "display_data"
    }
   ],
   "source": [
    "plt.plot(data['id'].head(nval).values,data['location'].head(nval).values,c='red')"
   ]
  },
  {
   "cell_type": "code",
   "execution_count": 49,
   "metadata": {
    "collapsed": false
   },
   "outputs": [],
   "source": [
    "# nval=500\n",
    "# plt.plot(data['id'].head(nval).values,data['severity_type_combined'].head(nval).values)"
   ]
  },
  {
   "cell_type": "code",
   "execution_count": 50,
   "metadata": {
    "collapsed": false
   },
   "outputs": [],
   "source": [
    "# nval=1000\n",
    "# plt.plot(data['id'].head(nval).values,data['fault_severity'].head(nval).values)"
   ]
  },
  {
   "cell_type": "code",
   "execution_count": null,
   "metadata": {
    "collapsed": true
   },
   "outputs": [],
   "source": []
  },
  {
   "cell_type": "code",
   "execution_count": 51,
   "metadata": {
    "collapsed": false
   },
   "outputs": [],
   "source": [
    "# data[['id','pattern_feature']]"
   ]
  },
  {
   "cell_type": "code",
   "execution_count": 52,
   "metadata": {
    "collapsed": false
   },
   "outputs": [],
   "source": [
    "# pd.crosstab(data['severity_type_combined'],data['fault_severity'])"
   ]
  },
  {
   "cell_type": "code",
   "execution_count": 53,
   "metadata": {
    "collapsed": false
   },
   "outputs": [],
   "source": [
    "# pd.crosstab(data['resource_type 8'],data['fault_severity'])"
   ]
  },
  {
   "cell_type": "code",
   "execution_count": 54,
   "metadata": {
    "collapsed": false
   },
   "outputs": [],
   "source": [
    "# pd.crosstab(data['pattern_all_similar'],data['fault_severity'])"
   ]
  },
  {
   "cell_type": "code",
   "execution_count": 55,
   "metadata": {
    "collapsed": false
   },
   "outputs": [],
   "source": [
    "# pd.crosstab(data['pattern_feature_similar'],data['fault_severity'])"
   ]
  },
  {
   "cell_type": "code",
   "execution_count": null,
   "metadata": {
    "collapsed": true
   },
   "outputs": [],
   "source": []
  },
  {
   "cell_type": "markdown",
   "metadata": {},
   "source": [
    "## Divide back into test and train"
   ]
  },
  {
   "cell_type": "code",
   "execution_count": 56,
   "metadata": {
    "collapsed": false
   },
   "outputs": [
    {
     "name": "stderr",
     "output_type": "stream",
     "text": [
      "/Users/aarshay/anaconda/lib/python2.7/site-packages/ipykernel/__main__.py:3: SettingWithCopyWarning: \n",
      "A value is trying to be set on a copy of a slice from a DataFrame\n",
      "\n",
      "See the caveats in the documentation: http://pandas.pydata.org/pandas-docs/stable/indexing.html#indexing-view-versus-copy\n",
      "  app.launch_new_instance()\n",
      "/Users/aarshay/anaconda/lib/python2.7/site-packages/ipykernel/__main__.py:4: SettingWithCopyWarning: \n",
      "A value is trying to be set on a copy of a slice from a DataFrame\n",
      "\n",
      "See the caveats in the documentation: http://pandas.pydata.org/pandas-docs/stable/indexing.html#indexing-view-versus-copy\n"
     ]
    }
   ],
   "source": [
    "train = data.loc[data['source']=='train']\n",
    "test = data.loc[data['source']=='test']\n",
    "train.drop('source',axis=1,inplace=True)\n",
    "test.drop(['source','fault_severity'],axis=1,inplace=True)\n",
    "train.to_csv('data/train_modified_9.csv',index=False)\n",
    "test.to_csv('data/test_modified_9.csv',index=False)"
   ]
  },
  {
   "cell_type": "code",
   "execution_count": null,
   "metadata": {
    "collapsed": true
   },
   "outputs": [],
   "source": []
  }
 ],
 "metadata": {
  "kernelspec": {
   "display_name": "Python 2",
   "language": "python",
   "name": "python2"
  },
  "language_info": {
   "codemirror_mode": {
    "name": "ipython",
    "version": 2
   },
   "file_extension": ".py",
   "mimetype": "text/x-python",
   "name": "python",
   "nbconvert_exporter": "python",
   "pygments_lexer": "ipython2",
   "version": "2.7.11"
  }
 },
 "nbformat": 4,
 "nbformat_minor": 0
}
