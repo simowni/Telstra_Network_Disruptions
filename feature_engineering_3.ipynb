{
 "cells": [
  {
   "cell_type": "code",
   "execution_count": 1,
   "metadata": {
    "collapsed": true
   },
   "outputs": [],
   "source": [
    "import pandas as pd\n",
    "import numpy as np\n",
    "\n",
    "%matplotlib inline\n",
    "import matplotlib.pylab as plt\n",
    "from matplotlib.pylab import rcParams\n",
    "rcParams['figure.figsize'] = 20, 4"
   ]
  },
  {
   "cell_type": "code",
   "execution_count": 2,
   "metadata": {},
   "outputs": [],
   "source": [
    "from AJ_ML_Library import models_classification"
   ]
  },
  {
   "cell_type": "code",
   "execution_count": 3,
   "metadata": {},
   "outputs": [],
   "source": [
    "from sklearn.preprocessing import LabelEncoder"
   ]
  },
  {
   "cell_type": "code",
   "execution_count": 4,
   "metadata": {},
   "outputs": [],
   "source": [
    "train = pd.read_csv('data/train_modified_10.csv')\n",
    "test = pd.read_csv('data/test_modified_10.csv')"
   ]
  },
  {
   "cell_type": "code",
   "execution_count": 5,
   "metadata": {},
   "outputs": [
    {
     "data": {
      "text/plain": [
       "((7381, 232), (11171, 231))"
      ]
     },
     "execution_count": 5,
     "metadata": {},
     "output_type": "execute_result"
    }
   ],
   "source": [
    "train.shape, test.shape"
   ]
  },
  {
   "cell_type": "code",
   "execution_count": 6,
   "metadata": {},
   "outputs": [
    {
     "data": {
      "text/plain": [
       "Index([u'event_count', u'event_type 10', u'event_type 11', u'event_type 13',\n",
       "       u'event_type 14', u'event_type 15', u'event_type 18', u'event_type 2',\n",
       "       u'event_type 20', u'event_type 21',\n",
       "       ...\n",
       "       u'resource_type 6', u'resource_type 7', u'resource_type 8',\n",
       "       u'resource_type 9', u'severity_type 1', u'severity_type 2',\n",
       "       u'severity_type 3', u'severity_type 4', u'severity_type 5',\n",
       "       u'location_occurence_count'],\n",
       "      dtype='object', length=232)"
      ]
     },
     "execution_count": 6,
     "metadata": {},
     "output_type": "execute_result"
    }
   ],
   "source": [
    "train.columns"
   ]
  },
  {
   "cell_type": "code",
   "execution_count": 7,
   "metadata": {
    "scrolled": false
   },
   "outputs": [
    {
     "data": {
      "text/plain": [
       "0    4784\n",
       "1    1871\n",
       "2     726\n",
       "Name: fault_severity, dtype: int64"
      ]
     },
     "execution_count": 7,
     "metadata": {},
     "output_type": "execute_result"
    }
   ],
   "source": [
    "train['fault_severity'].value_counts()"
   ]
  },
  {
   "cell_type": "code",
   "execution_count": 8,
   "metadata": {
    "collapsed": true
   },
   "outputs": [],
   "source": [
    "target = 'fault_severity'\n",
    "IDcol = 'id'\n",
    "output_colnames = ['predict_0','predict_1','predict_2']"
   ]
  },
  {
   "cell_type": "code",
   "execution_count": 9,
   "metadata": {},
   "outputs": [
    {
     "data": {
      "text/plain": [
       "(18552, 233)"
      ]
     },
     "execution_count": 9,
     "metadata": {},
     "output_type": "execute_result"
    }
   ],
   "source": [
    "#Combine the data first:\n",
    "train['source'] = 'train'\n",
    "test['source'] = 'test'\n",
    "data = pd.concat([train,test], ignore_index=True)\n",
    "data.shape"
   ]
  },
  {
   "cell_type": "markdown",
   "metadata": {},
   "source": []
  },
  {
   "cell_type": "markdown",
   "metadata": {},
   "source": [
    "## Variable for Resource Type:"
   ]
  },
  {
   "cell_type": "code",
   "execution_count": 11,
   "metadata": {},
   "outputs": [
    {
     "data": {
      "text/plain": [
       "0    17612\n",
       "1      940\n",
       "Name: resource_type 8and2, dtype: int64"
      ]
     },
     "execution_count": 11,
     "metadata": {},
     "output_type": "execute_result"
    }
   ],
   "source": [
    "data['resource_type 8and2'] = data.apply(lambda x: 1 if (x['resource_type 2']+x['resource_type 8'])==2 else 0,axis=1)\n",
    "data['resource_type 8and2'].value_counts()"
   ]
  },
  {
   "cell_type": "code",
   "execution_count": 12,
   "metadata": {},
   "outputs": [
    {
     "data": {
      "text/plain": [
       "only 8    9328\n",
       "only 2    7978\n",
       "both       940\n",
       "none       306\n",
       "Name: resource_type 82combo, dtype: int64"
      ]
     },
     "execution_count": 12,
     "metadata": {},
     "output_type": "execute_result"
    }
   ],
   "source": [
    "def combine_8_2(x):\n",
    "    s = x['resource_type 2']+x['resource_type 8']\n",
    "    \n",
    "    if s==2:\n",
    "        return 'both'\n",
    "    elif s==0:\n",
    "        return 'none'\n",
    "    else:\n",
    "        if x['resource_type 2']==1:\n",
    "            return 'only 2'\n",
    "        else:\n",
    "            return 'only 8'\n",
    "        \n",
    "data['resource_type 82combo'] = data.apply(combine_8_2, axis=1)\n",
    "data['resource_type 82combo'].value_counts()"
   ]
  },
  {
   "cell_type": "code",
   "execution_count": 13,
   "metadata": {
    "collapsed": true
   },
   "outputs": [],
   "source": [
    "data['resource_type 82combo_lag'] = data['resource_type 82combo'].shift().fillna(-1)\n",
    "data['resource_type_change'] = data.apply(lambda x: 1 if x['resource_type 82combo']==x['resource_type 82combo_lag'] else 0,axis=1)\n",
    "data.drop(['resource_type 82combo','resource_type 82combo_lag'],axis=1,inplace=True)"
   ]
  },
  {
   "cell_type": "code",
   "execution_count": 14,
   "metadata": {},
   "outputs": [
    {
     "data": {
      "text/plain": [
       "0    10286\n",
       "1     8266\n",
       "Name: resource_type_change, dtype: int64"
      ]
     },
     "execution_count": 14,
     "metadata": {},
     "output_type": "execute_result"
    }
   ],
   "source": [
    "data['resource_type_change'].value_counts()"
   ]
  },
  {
   "cell_type": "markdown",
   "metadata": {},
   "source": [
    "## Check if previous location is same:"
   ]
  },
  {
   "cell_type": "code",
   "execution_count": 15,
   "metadata": {
    "collapsed": true
   },
   "outputs": [],
   "source": [
    "data['location_lag'] = data['location'].shift().fillna(-1)\n",
    "data['location_previous_same'] = data.apply(lambda x: 1 if x['location']==x['location_lag'] else 0,axis=1)\n",
    "data.drop(['location_lag'],axis=1,inplace=True)"
   ]
  },
  {
   "cell_type": "markdown",
   "metadata": {},
   "source": [
    "## Divide back into test and train"
   ]
  },
  {
   "cell_type": "code",
   "execution_count": 48,
   "metadata": {},
   "outputs": [
    {
     "name": "stderr",
     "output_type": "stream",
     "text": [
      "/Users/aarshay/anaconda/lib/python2.7/site-packages/ipykernel/__main__.py:3: SettingWithCopyWarning: \n",
      "A value is trying to be set on a copy of a slice from a DataFrame\n",
      "\n",
      "See the caveats in the documentation: http://pandas.pydata.org/pandas-docs/stable/indexing.html#indexing-view-versus-copy\n",
      "  app.launch_new_instance()\n",
      "/Users/aarshay/anaconda/lib/python2.7/site-packages/ipykernel/__main__.py:4: SettingWithCopyWarning: \n",
      "A value is trying to be set on a copy of a slice from a DataFrame\n",
      "\n",
      "See the caveats in the documentation: http://pandas.pydata.org/pandas-docs/stable/indexing.html#indexing-view-versus-copy\n"
     ]
    }
   ],
   "source": [
    "train = data.loc[data['source']=='train']\n",
    "test = data.loc[data['source']=='test']\n",
    "train.drop('source',axis=1,inplace=True)\n",
    "test.drop(['source','fault_severity'],axis=1,inplace=True)\n",
    "train.to_csv('data/train_modified_11.csv',index=False)\n",
    "test.to_csv('data/test_modified_11.csv',index=False)"
   ]
  }
 ],
 "metadata": {
  "kernelspec": {
   "display_name": "Python 3",
   "language": "python",
   "name": "python3"
  },
  "language_info": {
   "codemirror_mode": {
    "name": "ipython",
    "version": 3
   },
   "file_extension": ".py",
   "mimetype": "text/x-python",
   "name": "python",
   "nbconvert_exporter": "python",
   "pygments_lexer": "ipython3",
   "version": "3.6.3"
  }
 },
 "nbformat": 4,
 "nbformat_minor": 1
}
